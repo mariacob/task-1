{
 "cells": [
  {
   "cell_type": "code",
   "execution_count": 1,
   "metadata": {},
   "outputs": [
    {
     "data": {
      "text/plain": [
       "[           0         1                         2                       3   \\\n",
       " 0    Rank2021  Rank2020              Company name                 Country   \n",
       " 1           1         2             OMV Petrom SA                 Romania   \n",
       " 2           2         1       Automobile-Dacia SA                 Romania   \n",
       " 3           3         3  OMV Petrom Marketing SRL                 Romania   \n",
       " 4           4         9               Petrol d.d.                Slovenia   \n",
       " ..        ...       ...                       ...                     ...   \n",
       " 96         96        92        Bingo d.o.o. Tuzla  Bosnia and Herzegovina   \n",
       " 97         97        87       Porsche Romania SRL                 Romania   \n",
       " 98         98        77            Mercator-S DOO                  Serbia   \n",
       " 99         99        95           Enel Energie SA                 Romania   \n",
       " 100       100       new                 Arctic SA                 Romania   \n",
       " \n",
       "                         4                   5                   6   \\\n",
       " 0                 Industry  Total revenue 2021  Total revenue 2020   \n",
       " 1    Petroleum/Natural Gas              6043.5              3808.4   \n",
       " 2              Automobiles              4398.0              3814.4   \n",
       " 3    Petroleum/Natural Gas              3858.8              2996.8   \n",
       " 4    Petroleum/Natural Gas              3858.6              2468.8   \n",
       " ..                     ...                 ...                 ...   \n",
       " 96        Wholesale/Retail               716.3               620.2   \n",
       " 97             Automobiles               709.4               646.9   \n",
       " 98        Wholesale/Retail               702.2               692.9   \n",
       " 99             Electricity               701.8               596.8   \n",
       " 100            Electronics               698.7               556.5   \n",
       " \n",
       "                         7                     8                     9   \\\n",
       " 0    Y/Y change in revenue  Net profit/loss 2021  Net profit/loss 2020   \n",
       " 1                   60.36%                 546.3                 283.7   \n",
       " 2                   16.52%                 101.3                  61.2   \n",
       " 3                   30.12%                 102.0                  67.4   \n",
       " 4                   56.29%                  66.5                  28.9   \n",
       " ..                     ...                   ...                   ...   \n",
       " 96                  15.49%                  44.1                  34.9   \n",
       " 97                  10.81%                  40.5                  35.0   \n",
       " 98                   1.65%                 -13.9                 -46.7   \n",
       " 99                  18.84%                 -22.1                  28.3   \n",
       " 100                 26.88%                 -14.8                  21.4   \n",
       " \n",
       "                           10  \n",
       " 0    Rank by net profit/loss  \n",
       " 1                          2  \n",
       " 2                         23  \n",
       " 3                         22  \n",
       " 4                         32  \n",
       " ..                       ...  \n",
       " 96                        37  \n",
       " 97                        39  \n",
       " 98                        90  \n",
       " 99                        92  \n",
       " 100                       91  \n",
       " \n",
       " [101 rows x 11 columns]]"
      ]
     },
     "execution_count": 1,
     "metadata": {},
     "output_type": "execute_result"
    }
   ],
   "source": [
    "import pandas as pd\n",
    "import lxml\n",
    "\n",
    "table = pd.read_html(\"https://top100.seenews.com/rankings/top-100-companies/\")\n",
    "\n",
    "table\n"
   ]
  },
  {
   "cell_type": "code",
   "execution_count": 5,
   "metadata": {},
   "outputs": [
    {
     "data": {
      "text/plain": [
       "0    Romania\n",
       "dtype: object"
      ]
     },
     "execution_count": 5,
     "metadata": {},
     "output_type": "execute_result"
    }
   ],
   "source": [
    "# Find the most popular country in the eastern european region with the most companies headquarters in the top 100\n",
    "table[0][3].mode()"
   ]
  },
  {
   "cell_type": "code",
   "execution_count": null,
   "metadata": {},
   "outputs": [],
   "source": []
  }
 ],
 "metadata": {
  "kernelspec": {
   "display_name": "Python 3",
   "language": "python",
   "name": "python3"
  },
  "language_info": {
   "codemirror_mode": {
    "name": "ipython",
    "version": 3
   },
   "file_extension": ".py",
   "mimetype": "text/x-python",
   "name": "python",
   "nbconvert_exporter": "python",
   "pygments_lexer": "ipython3",
   "version": "3.9.13"
  },
  "orig_nbformat": 4,
  "vscode": {
   "interpreter": {
    "hash": "3b7f60335ea9f94639837a2767aa261050d290bb643ad3aa098496ef5aade5a4"
   }
  }
 },
 "nbformat": 4,
 "nbformat_minor": 2
}
