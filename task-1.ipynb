{
 "cells": [
  {
   "cell_type": "code",
   "execution_count": 4,
   "metadata": {},
   "outputs": [
    {
     "data": {
      "text/plain": [
       "[    Rank                 Company  Score\n",
       " 0      1                    BASF   75.6\n",
       " 1      2                   Bayer   71.6\n",
       " 2      3        Deutsche Telekom   67.1\n",
       " 3      4                   Roche   62.3\n",
       " 4      5                 Allianz   61.1\n",
       " ..   ...                     ...    ...\n",
       " 95    96     Priceline Group Inc   26.0\n",
       " 96    97  Reynolds American Inc.   25.0\n",
       " 97    98  Charter Communications   17.9\n",
       " 98    99            Alphabet Inc   17.0\n",
       " 99   100      Berkshire Hathaway    8.6\n",
       " \n",
       " [100 rows x 3 columns]]"
      ]
     },
     "execution_count": 4,
     "metadata": {},
     "output_type": "execute_result"
    }
   ],
   "source": [
    "import pandas as pd\n",
    "import lxml\n",
    "\n",
    "table = pd.read_html(\"https://www.comprend.com/webranking/webranking-results/2017-2018/global-100-2017-2018/\")\n",
    "\n",
    "table\n"
   ]
  },
  {
   "cell_type": "code",
   "execution_count": null,
   "metadata": {},
   "outputs": [],
   "source": []
  }
 ],
 "metadata": {
  "kernelspec": {
   "display_name": "Python 3",
   "language": "python",
   "name": "python3"
  },
  "language_info": {
   "codemirror_mode": {
    "name": "ipython",
    "version": 3
   },
   "file_extension": ".py",
   "mimetype": "text/x-python",
   "name": "python",
   "nbconvert_exporter": "python",
   "pygments_lexer": "ipython3",
   "version": "3.9.13"
  },
  "orig_nbformat": 4,
  "vscode": {
   "interpreter": {
    "hash": "3b7f60335ea9f94639837a2767aa261050d290bb643ad3aa098496ef5aade5a4"
   }
  }
 },
 "nbformat": 4,
 "nbformat_minor": 2
}
